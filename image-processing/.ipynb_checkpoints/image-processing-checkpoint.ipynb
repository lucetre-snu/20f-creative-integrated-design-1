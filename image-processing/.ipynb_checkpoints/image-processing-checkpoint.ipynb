{
 "cells": [
  {
   "cell_type": "code",
   "execution_count": 5,
   "metadata": {},
   "outputs": [],
   "source": [
    "import struct\n",
    "import codecs\n",
    "import os\n",
    "import re\n",
    "import sys\n",
    "import time\n",
    "\n",
    "from PyQt4.QtGui import *\n",
    "from PyQt4.QtCore import *\n",
    "import numpy as np\n",
    "from PIL import Image"
   ]
  }
 ],
 "metadata": {
  "kernelspec": {
   "display_name": "Mollapheus",
   "language": "python",
   "name": "mollapheus"
  },
  "language_info": {
   "codemirror_mode": {
    "name": "ipython",
    "version": 2
   },
   "file_extension": ".py",
   "mimetype": "text/x-python",
   "name": "python",
   "nbconvert_exporter": "python",
   "pygments_lexer": "ipython2",
   "version": "2.7.12"
  }
 },
 "nbformat": 4,
 "nbformat_minor": 4
}
