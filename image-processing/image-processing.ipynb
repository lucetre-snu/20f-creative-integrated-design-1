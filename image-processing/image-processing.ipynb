{
 "cells": [
  {
   "cell_type": "markdown",
   "metadata": {},
   "source": [
    "### Making label imgs with `msk`"
   ]
  },
  {
   "cell_type": "code",
   "execution_count": 1,
   "metadata": {},
   "outputs": [],
   "source": [
    "import struct\n",
    "import codecs\n",
    "import os\n",
    "import re\n",
    "import sys\n",
    "import time\n",
    "\n",
    "from PyQt4.QtGui import *\n",
    "from PyQt4.QtCore import *\n",
    "import numpy as np\n",
    "from PIL import Image"
   ]
  },
  {
   "cell_type": "code",
   "execution_count": 2,
   "metadata": {},
   "outputs": [],
   "source": [
    "def save_label_as_npy(source_folder_path, msk_file_name, save_folder_path):\n",
    "        print \"Processing \" + msk_file_name + \" ...\"\n",
    "\n",
    "        if not os.path.isfile(source_folder_path + '/' + msk_file_name) :\n",
    "            print \"Error : There's no file '%s'.\"%(fileDir + '/' + maskFileName)\n",
    "            return -1, None\n",
    "\n",
    "        f = open(source_folder_path + '/' + msk_file_name,'rb')\n",
    "        fData = f.read()\n",
    "        fResX, fResY, numMaskLayer = struct.unpack('iii', fData[0:12])\n",
    "\n",
    "        totalSize = fResY * fResX\n",
    "        bufSize = totalSize/32\n",
    "        if totalSize%32 :\n",
    "            bufSize += 1\n",
    "\n",
    "\n",
    "        index = 3\n",
    "        labelArray = np.zeros((fResY, fResX), dtype=int)\n",
    "        for i in range(numMaskLayer) :\n",
    "            bitPos = 1\n",
    "            unitInfo = int(struct.unpack('I', fData[index*4:(index+1)*4])[0])\n",
    "            for y in range(fResY) :\n",
    "                for x in range(fResX) :                    \n",
    "                    if (unitInfo & bitPos) :\n",
    "                        labelArray[y, x] = 1\n",
    "                        \n",
    "                    if bitPos == 0x80000000 :\n",
    "                        bitPos = 1\n",
    "                        index+=1\n",
    "                        if ((index)<bufSize*numMaskLayer+3) :\n",
    "                            unitInfo = int(struct.unpack('I', fData[index*4:(index+1)*4])[0])\n",
    "                    else :\n",
    "                        bitPos = bitPos << 1\n",
    "            \n",
    "            if (bitPos!=1) :\n",
    "                index+=1\n",
    "        \n",
    "        f.close()\n",
    "\n",
    "        filename_without_ext = msk_file_name.split(\".\")[0]\n",
    "        np.save(save_folder_path + \"/numpy/\" + filename_without_ext, labelArray)\n",
    "        labelImg = Image.fromarray((labelArray * 255).astype(np.uint8))\n",
    "        labelImg.save(save_folder_path + \"/jpg/\" + filename_without_ext + \".jpg\")"
   ]
  },
  {
   "cell_type": "code",
   "execution_count": 3,
   "metadata": {},
   "outputs": [],
   "source": [
    "source_folder_path = \"./DATA/ORG/mask/\"\n",
    "save_folder_path = \"./DATA/LABELED\"\n",
    "\n",
    "file_list = os.listdir(source_folder_path)\n",
    "file_list_msk = [file for file in file_list if file.endswith(\".msk\")]"
   ]
  },
  {
   "cell_type": "code",
   "execution_count": 4,
   "metadata": {
    "scrolled": true
   },
   "outputs": [
    {
     "name": "stdout",
     "output_type": "stream",
     "text": [
      "0014_f_58_12_lip_puckerer_tex.msk is already processed\n",
      "0011_f_45_06_jaw_right_tex.msk is already processed\n",
      "0004_f_20_03_mouth_stretch_tex.msk is already processed\n",
      "0002_m_24_07_jaw_forward_tex.msk is already processed\n",
      "0009_f_23_06_jaw_right_tex.msk is already processed\n",
      "0014_f_58_04_anger_tex.msk is already processed\n",
      "0014_f_58_18_eye_closed_tex.msk is already processed\n",
      "0008_f_25_04_anger_tex.msk is already processed\n",
      "0010_f_22_07_jaw_forward_tex.msk is already processed\n",
      "0013_m_20_08_mouth_left_tex.msk is already processed\n",
      "0011_f_45_07_jaw_forward_tex.msk is already processed\n",
      "0009_f_23_15_lip_roll_tex.msk is already processed\n",
      "0005_f_45_13_lip_funneler_tex.msk is already processed\n",
      "0006_m_24_05_jaw_left_tex.msk is already processed\n",
      "0010_f_22_12_lip_puckerer_tex.msk is already processed\n",
      "0001_f_22_02_smile_tex.msk is already processed\n",
      "0010_f_22_16_grin_tex.msk is already processed\n",
      "0017_m_31_07_jaw_forward_tex.msk is already processed\n",
      "0013_m_20_19_brow_raiser_tex.msk is already processed\n",
      "0001_f_22_18_eye_closed_tex.msk is already processed\n",
      "0009_f_23_07_jaw_forward_tex.msk is already processed\n",
      "0010_f_22_04_anger_tex.msk is already processed\n",
      "0007_f_20_12_lip_puckerer_tex.msk is already processed\n",
      "0016_f_22_11_chin_raiser_tex.msk is already processed\n",
      "0005_f_45_11_chin_raiser_tex.msk is already processed\n",
      "0020_m_43_02_smile_tex.msk is already processed\n",
      "0001_f_22_03_mouth_stretch_tex.msk is already processed\n",
      "0009_f_23_19_brow_raiser_tex.msk is already processed\n",
      "0009_f_23_14_sadness_tex.msk is already processed\n",
      "0016_f_22_20_brow_lower_tex.msk is already processed\n",
      "0014_f_58_02_smile_tex.msk is already processed\n",
      "0011_f_45_08_mouth_left_tex.msk is already processed\n",
      "0005_f_45_15_lip_roll_tex.msk is already processed\n",
      "0001_f_22_11_chin_raiser_tex.msk is already processed\n",
      "0010_f_22_05_jaw_left_tex.msk is already processed\n",
      "0002_m_24_08_mouth_left_tex.msk is already processed\n",
      "0016_f_22_06_jaw_right_tex.msk is already processed\n",
      "0008_f_25_10_dimpler_tex.msk is already processed\n",
      "0013_m_20_11_chin_raiser_tex.msk is already processed\n",
      "0014_f_58_19_brow_raiser_tex.msk is already processed\n",
      "0011_f_45_18_eye_closed_tex.msk is already processed\n",
      "0007_f_20_11_chin_raiser_tex.msk is already processed\n",
      "0004_f_20_13_lip_funneler_tex.msk is already processed\n",
      "0015_m_50_19_brow_raiser_tex.msk is already processed\n",
      "0015_m_50_18_eye_closed_tex.msk is already processed\n",
      "0007_f_20_20_brow_lower_tex.msk is already processed\n",
      "0009_f_23_13_lip_funneler_tex.msk is already processed\n",
      "0002_m_24_14_sadness_tex.msk is already processed\n",
      "0015_m_50_07_jaw_forward_tex.msk is already processed\n",
      "0008_f_25_12_lip_puckerer_tex.msk is already processed\n",
      "0013_m_20_01_neutral_tex.msk is already processed\n",
      "0008_f_25_19_brow_raiser_tex.msk is already processed\n",
      "0005_f_45_08_mouth_left_tex.msk is already processed\n",
      "0010_f_22_14_sadness_tex.msk is already processed\n",
      "0004_f_20_05_jaw_left_tex.msk is already processed\n",
      "0016_f_22_10_dimpler_tex.msk is already processed\n",
      "0006_m_24_15_lip_roll_tex.msk is already processed\n",
      "0013_m_20_03_mouth_stretch_tex.msk is already processed\n",
      "0003_m_30_16_grin_tex.msk is already processed\n",
      "0009_f_23_17_cheek_blowing_tex.msk is already processed\n",
      "0003_m_30_12_lip_puckerer_tex.msk is already processed\n",
      "0005_f_45_03_mouth_stretch_tex.msk is already processed\n",
      "0007_f_20_13_lip_funneler_tex.msk is already processed\n",
      "0007_f_20_10_dimpler_tex.msk is already processed\n",
      "0010_f_22_06_jaw_right_tex.msk is already processed\n",
      "0008_f_25_18_eye_closed_tex.msk is already processed\n",
      "0004_f_20_15_lip_roll_tex.msk is already processed\n",
      "0004_f_20_01_neutral_tex.msk is already processed\n",
      "0006_m_24_17_cheek_blowing_tex.msk is already processed\n",
      "0010_f_22_08_mouth_left_tex.msk is already processed\n",
      "0014_f_58_20_brow_lower_tex.msk is already processed\n",
      "0006_m_24_06_jaw_right_tex.msk is already processed\n",
      "0005_f_45_17_cheek_blowing_tex.msk is already processed\n",
      "0014_f_58_05_jaw_left_tex.msk is already processed\n",
      "0004_f_20_17_cheek_blowing_tex.msk is already processed\n",
      "0009_f_23_20_brow_lower_tex.msk is already processed\n",
      "0008_f_25_02_smile_tex.msk is already processed\n",
      "0002_m_24_12_lip_puckerer_tex.msk is already processed\n",
      "0011_f_45_01_neutral_tex.msk is already processed\n",
      "Processing 0019_m_20_02_smile_tex.msk ...\n"
     ]
    },
    {
     "ename": "error",
     "evalue": "unpack requires a string argument of length 12",
     "output_type": "error",
     "traceback": [
      "\u001b[0;31m---------------------------------------------------------------------------\u001b[0m",
      "\u001b[0;31merror\u001b[0m                                     Traceback (most recent call last)",
      "\u001b[0;32m<ipython-input-4-940af305f523>\u001b[0m in \u001b[0;36m<module>\u001b[0;34m()\u001b[0m\n\u001b[1;32m      4\u001b[0m     \u001b[0mnumpy_file_name\u001b[0m \u001b[0;34m=\u001b[0m \u001b[0mfile_name\u001b[0m\u001b[0;34m.\u001b[0m\u001b[0mreplace\u001b[0m\u001b[0;34m(\u001b[0m\u001b[0mfile_name\u001b[0m\u001b[0;34m.\u001b[0m\u001b[0msplit\u001b[0m\u001b[0;34m(\u001b[0m\u001b[0;34m\".\"\u001b[0m\u001b[0;34m)\u001b[0m\u001b[0;34m[\u001b[0m\u001b[0;34m-\u001b[0m\u001b[0;36m1\u001b[0m\u001b[0;34m]\u001b[0m\u001b[0;34m,\u001b[0m \u001b[0;34m\"npy\"\u001b[0m\u001b[0;34m)\u001b[0m\u001b[0;34m\u001b[0m\u001b[0m\n\u001b[1;32m      5\u001b[0m     \u001b[0;32mif\u001b[0m \u001b[0;32mnot\u001b[0m \u001b[0mnumpy_file_name\u001b[0m \u001b[0;32min\u001b[0m \u001b[0malready_processed_files\u001b[0m\u001b[0;34m:\u001b[0m\u001b[0;34m\u001b[0m\u001b[0m\n\u001b[0;32m----> 6\u001b[0;31m         \u001b[0msave_label_as_npy\u001b[0m\u001b[0;34m(\u001b[0m\u001b[0msource_folder_path\u001b[0m\u001b[0;34m,\u001b[0m \u001b[0mfile_name\u001b[0m\u001b[0;34m,\u001b[0m \u001b[0msave_folder_path\u001b[0m\u001b[0;34m)\u001b[0m\u001b[0;34m\u001b[0m\u001b[0m\n\u001b[0m\u001b[1;32m      7\u001b[0m     \u001b[0;32melse\u001b[0m\u001b[0;34m:\u001b[0m\u001b[0;34m\u001b[0m\u001b[0m\n\u001b[1;32m      8\u001b[0m         \u001b[0;32mprint\u001b[0m\u001b[0;34m(\u001b[0m\u001b[0mfile_name\u001b[0m \u001b[0;34m+\u001b[0m \u001b[0;34m\" is already processed\"\u001b[0m\u001b[0;34m)\u001b[0m\u001b[0;34m\u001b[0m\u001b[0m\n",
      "\u001b[0;32m<ipython-input-2-1066e2694b18>\u001b[0m in \u001b[0;36msave_label_as_npy\u001b[0;34m(source_folder_path, msk_file_name, save_folder_path)\u001b[0m\n\u001b[1;32m      8\u001b[0m         \u001b[0mf\u001b[0m \u001b[0;34m=\u001b[0m \u001b[0mopen\u001b[0m\u001b[0;34m(\u001b[0m\u001b[0msource_folder_path\u001b[0m \u001b[0;34m+\u001b[0m \u001b[0;34m'/'\u001b[0m \u001b[0;34m+\u001b[0m \u001b[0mmsk_file_name\u001b[0m\u001b[0;34m,\u001b[0m\u001b[0;34m'rb'\u001b[0m\u001b[0;34m)\u001b[0m\u001b[0;34m\u001b[0m\u001b[0m\n\u001b[1;32m      9\u001b[0m         \u001b[0mfData\u001b[0m \u001b[0;34m=\u001b[0m \u001b[0mf\u001b[0m\u001b[0;34m.\u001b[0m\u001b[0mread\u001b[0m\u001b[0;34m(\u001b[0m\u001b[0;34m)\u001b[0m\u001b[0;34m\u001b[0m\u001b[0m\n\u001b[0;32m---> 10\u001b[0;31m         \u001b[0mfResX\u001b[0m\u001b[0;34m,\u001b[0m \u001b[0mfResY\u001b[0m\u001b[0;34m,\u001b[0m \u001b[0mnumMaskLayer\u001b[0m \u001b[0;34m=\u001b[0m \u001b[0mstruct\u001b[0m\u001b[0;34m.\u001b[0m\u001b[0munpack\u001b[0m\u001b[0;34m(\u001b[0m\u001b[0;34m'iii'\u001b[0m\u001b[0;34m,\u001b[0m \u001b[0mfData\u001b[0m\u001b[0;34m[\u001b[0m\u001b[0;36m0\u001b[0m\u001b[0;34m:\u001b[0m\u001b[0;36m12\u001b[0m\u001b[0;34m]\u001b[0m\u001b[0;34m)\u001b[0m\u001b[0;34m\u001b[0m\u001b[0m\n\u001b[0m\u001b[1;32m     11\u001b[0m \u001b[0;34m\u001b[0m\u001b[0m\n\u001b[1;32m     12\u001b[0m         \u001b[0mtotalSize\u001b[0m \u001b[0;34m=\u001b[0m \u001b[0mfResY\u001b[0m \u001b[0;34m*\u001b[0m \u001b[0mfResX\u001b[0m\u001b[0;34m\u001b[0m\u001b[0m\n",
      "\u001b[0;31merror\u001b[0m: unpack requires a string argument of length 12"
     ]
    }
   ],
   "source": [
    "already_processed_files = set(os.listdir(save_folder_path + \"/numpy/\"))\n",
    "\n",
    "for file_name in file_list_msk:\n",
    "    numpy_file_name = file_name.replace(file_name.split(\".\")[-1], \"npy\")\n",
    "    if not numpy_file_name in already_processed_files:\n",
    "        save_label_as_npy(source_folder_path, file_name, save_folder_path)\n",
    "    else:\n",
    "        print(file_name + \" is already processed\")"
   ]
  },
  {
   "cell_type": "markdown",
   "metadata": {},
   "source": [
    "### Crop imgs"
   ]
  },
  {
   "cell_type": "code",
   "execution_count": 6,
   "metadata": {},
   "outputs": [],
   "source": [
    "def crop(image_folder_path, numpy_folder_path, save_folder_path, x_min, x_max, y_min, y_max):\n",
    "    print(\"Processing images ...\")\n",
    "    img_list = os.listdir(image_folder_path)\n",
    "    img_list = [img_file_name for img_file_name in img_list if img_file_name.endswith(\".jpg\")]\n",
    "    for img_file_name in img_list:\n",
    "        print(\"Processing \" + img_file_name + \" ...\")\n",
    "        img = Image.open(image_folder_path + img_file_name).convert('RGB')\n",
    "        img_npy = np.array(img)\n",
    "        cropped_img = img_npy[y_min:y_max+1, x_min:x_max+1]\n",
    "        cropped_img = Image.fromarray(cropped_img.astype(np.uint8))\n",
    "        cropped_img.save(save_folder_path + \"image/\" + img_file_name)\n",
    "\n",
    "    print(\"\\n--------------------------------------------------------------\\n\")\n",
    "    print(\"Processing images ...\")\n",
    "\n",
    "    label_list = os.listdir(numpy_folder_path)\n",
    "    label_list = [label_file_name for label_file_name in label_list if label_file_name.endswith(\".npy\")]\n",
    "    for label_file_name in label_list:\n",
    "        print(\"Processing \" + label_file_name + \" ...\")\n",
    "        label = np.load(numpy_folder_path + label_file_name)\n",
    "        cropped_label = label[y_min:y_max+1, x_min:x_max+1]\n",
    "\n",
    "        filename_without_ext = label_file_name.split(\".\")[0]\n",
    "        cropped_label_img = Image.fromarray((cropped_label * 255).astype(np.uint8))\n",
    "        cropped_label_img.save(save_folder_path + \"label/jpg/\" + filename_without_ext + \".jpg\")\n",
    "\n",
    "        np.save(save_folder_path + \"label/numpy/\" + label_file_name, cropped_label)"
   ]
  },
  {
   "cell_type": "code",
   "execution_count": 7,
   "metadata": {},
   "outputs": [
    {
     "name": "stdout",
     "output_type": "stream",
     "text": [
      "Processing images ...\n",
      "Processing 0012_m_19_12_lip_puckerer_tex.jpg ...\n"
     ]
    },
    {
     "ename": "IOError",
     "evalue": "[Errno 2] No such file or directory: './DATA/CROPPED/image/0012_m_19_12_lip_puckerer_tex.jpg'",
     "output_type": "error",
     "traceback": [
      "\u001b[0;31m---------------------------------------------------------------------------\u001b[0m",
      "\u001b[0;31mIOError\u001b[0m                                   Traceback (most recent call last)",
      "\u001b[0;32m<ipython-input-7-b5f517ed30fe>\u001b[0m in \u001b[0;36m<module>\u001b[0;34m()\u001b[0m\n\u001b[0;32m----> 1\u001b[0;31m \u001b[0mcrop\u001b[0m\u001b[0;34m(\u001b[0m\u001b[0;34m\"./DATA/ORG/jpg/\"\u001b[0m\u001b[0;34m,\u001b[0m \u001b[0;34m\"./DATA/LABELED/numpy/\"\u001b[0m\u001b[0;34m,\u001b[0m \u001b[0;34m\"./DATA/CROPPED/\"\u001b[0m\u001b[0;34m,\u001b[0m \u001b[0;36m400\u001b[0m\u001b[0;34m,\u001b[0m \u001b[0;36m1640\u001b[0m\u001b[0;34m,\u001b[0m \u001b[0;36m200\u001b[0m\u001b[0;34m,\u001b[0m \u001b[0;36m1550\u001b[0m\u001b[0;34m)\u001b[0m\u001b[0;34m\u001b[0m\u001b[0m\n\u001b[0m",
      "\u001b[0;32m<ipython-input-6-cace4dd854ee>\u001b[0m in \u001b[0;36mcrop\u001b[0;34m(image_folder_path, numpy_folder_path, save_folder_path, x_min, x_max, y_min, y_max)\u001b[0m\n\u001b[1;32m      9\u001b[0m         \u001b[0mcropped_img\u001b[0m \u001b[0;34m=\u001b[0m \u001b[0mimg_npy\u001b[0m\u001b[0;34m[\u001b[0m\u001b[0my_min\u001b[0m\u001b[0;34m:\u001b[0m\u001b[0my_max\u001b[0m\u001b[0;34m+\u001b[0m\u001b[0;36m1\u001b[0m\u001b[0;34m,\u001b[0m \u001b[0mx_min\u001b[0m\u001b[0;34m:\u001b[0m\u001b[0mx_max\u001b[0m\u001b[0;34m+\u001b[0m\u001b[0;36m1\u001b[0m\u001b[0;34m]\u001b[0m\u001b[0;34m\u001b[0m\u001b[0m\n\u001b[1;32m     10\u001b[0m         \u001b[0mcropped_img\u001b[0m \u001b[0;34m=\u001b[0m \u001b[0mImage\u001b[0m\u001b[0;34m.\u001b[0m\u001b[0mfromarray\u001b[0m\u001b[0;34m(\u001b[0m\u001b[0mcropped_img\u001b[0m\u001b[0;34m.\u001b[0m\u001b[0mastype\u001b[0m\u001b[0;34m(\u001b[0m\u001b[0mnp\u001b[0m\u001b[0;34m.\u001b[0m\u001b[0muint8\u001b[0m\u001b[0;34m)\u001b[0m\u001b[0;34m)\u001b[0m\u001b[0;34m\u001b[0m\u001b[0m\n\u001b[0;32m---> 11\u001b[0;31m         \u001b[0mcropped_img\u001b[0m\u001b[0;34m.\u001b[0m\u001b[0msave\u001b[0m\u001b[0;34m(\u001b[0m\u001b[0msave_folder_path\u001b[0m \u001b[0;34m+\u001b[0m \u001b[0;34m\"image/\"\u001b[0m \u001b[0;34m+\u001b[0m \u001b[0mimg_file_name\u001b[0m\u001b[0;34m)\u001b[0m\u001b[0;34m\u001b[0m\u001b[0m\n\u001b[0m\u001b[1;32m     12\u001b[0m \u001b[0;34m\u001b[0m\u001b[0m\n\u001b[1;32m     13\u001b[0m     \u001b[0;32mprint\u001b[0m\u001b[0;34m(\u001b[0m\u001b[0;34m\"\\n--------------------------------------------------------------\\n\"\u001b[0m\u001b[0;34m)\u001b[0m\u001b[0;34m\u001b[0m\u001b[0m\n",
      "\u001b[0;32m/usr/local/lib/python2.7/dist-packages/PIL/Image.pyc\u001b[0m in \u001b[0;36msave\u001b[0;34m(self, fp, format, **params)\u001b[0m\n\u001b[1;32m   2079\u001b[0m                 \u001b[0mfp\u001b[0m \u001b[0;34m=\u001b[0m \u001b[0mbuiltins\u001b[0m\u001b[0;34m.\u001b[0m\u001b[0mopen\u001b[0m\u001b[0;34m(\u001b[0m\u001b[0mfilename\u001b[0m\u001b[0;34m,\u001b[0m \u001b[0;34m\"r+b\"\u001b[0m\u001b[0;34m)\u001b[0m\u001b[0;34m\u001b[0m\u001b[0m\n\u001b[1;32m   2080\u001b[0m             \u001b[0;32melse\u001b[0m\u001b[0;34m:\u001b[0m\u001b[0;34m\u001b[0m\u001b[0m\n\u001b[0;32m-> 2081\u001b[0;31m                 \u001b[0mfp\u001b[0m \u001b[0;34m=\u001b[0m \u001b[0mbuiltins\u001b[0m\u001b[0;34m.\u001b[0m\u001b[0mopen\u001b[0m\u001b[0;34m(\u001b[0m\u001b[0mfilename\u001b[0m\u001b[0;34m,\u001b[0m \u001b[0;34m\"w+b\"\u001b[0m\u001b[0;34m)\u001b[0m\u001b[0;34m\u001b[0m\u001b[0m\n\u001b[0m\u001b[1;32m   2082\u001b[0m \u001b[0;34m\u001b[0m\u001b[0m\n\u001b[1;32m   2083\u001b[0m         \u001b[0;32mtry\u001b[0m\u001b[0;34m:\u001b[0m\u001b[0;34m\u001b[0m\u001b[0m\n",
      "\u001b[0;31mIOError\u001b[0m: [Errno 2] No such file or directory: './DATA/CROPPED/image/0012_m_19_12_lip_puckerer_tex.jpg'"
     ]
    }
   ],
   "source": [
    "crop(\"./DATA/ORG/jpg/\", \"./DATA/LABELED/numpy/\", \"./DATA/CROPPED/\", 400, 1640, 200, 1550)"
   ]
  },
  {
   "cell_type": "code",
   "execution_count": null,
   "metadata": {},
   "outputs": [],
   "source": []
  }
 ],
 "metadata": {
  "kernelspec": {
   "display_name": "Mollapheus",
   "language": "python",
   "name": "mollapheus"
  },
  "language_info": {
   "codemirror_mode": {
    "name": "ipython",
    "version": 2
   },
   "file_extension": ".py",
   "mimetype": "text/x-python",
   "name": "python",
   "nbconvert_exporter": "python",
   "pygments_lexer": "ipython2",
   "version": "2.7.12"
  }
 },
 "nbformat": 4,
 "nbformat_minor": 4
}
