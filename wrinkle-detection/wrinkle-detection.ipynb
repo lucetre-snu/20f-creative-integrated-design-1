{
 "cells": [
  {
   "cell_type": "code",
   "execution_count": null,
   "metadata": {},
   "outputs": [],
   "source": []
  },
  {
   "cell_type": "code",
   "execution_count": 4,
   "metadata": {},
   "outputs": [
    {
     "name": "stdout",
     "output_type": "stream",
     "text": [
      "learning rate: 1.0000e-03\n",
      "batch size: 1\n",
      "number of epoch: 100\n",
      "loss function : f1\n",
      "data dir: ../image-processing/DATA/CROPPED\n",
      "ckpt dir: ./unet_baseline/checkpoint/10-31_14-33_f1\n",
      "log dir: ./unet_baseline/log/10-31_14-33_f1\n",
      "mode: train\n",
      "device: cuda\n",
      "Traceback (most recent call last):\n",
      "  File \"unet_baseline/main.py\", line 138, in <module>\n",
      "    main()\n",
      "  File \"unet_baseline/main.py\", line 79, in main\n",
      "    dataset_train = Dataset(data_dir=os.path.join(data_dir, 'train'), transform=transform)\n",
      "  File \"/home/lucetre/semester/20f-creative-integrated-design-1/wrinkle-detection/unet_baseline/dataset.py\", line 14, in __init__\n",
      "    lst_data = os.listdir(self.data_dir)\n",
      "FileNotFoundError: [Errno 2] No such file or directory: '../image-processing/DATA/CROPPED/train'\n"
     ]
    }
   ],
   "source": [
    "!python unet_baseline/main.py --loss f1"
   ]
  }
 ],
 "metadata": {
  "kernelspec": {
   "display_name": "Python 3",
   "language": "python",
   "name": "python3"
  },
  "language_info": {
   "codemirror_mode": {
    "name": "ipython",
    "version": 3
   },
   "file_extension": ".py",
   "mimetype": "text/x-python",
   "name": "python",
   "nbconvert_exporter": "python",
   "pygments_lexer": "ipython3",
   "version": "3.7.6"
  }
 },
 "nbformat": 4,
 "nbformat_minor": 4
}
