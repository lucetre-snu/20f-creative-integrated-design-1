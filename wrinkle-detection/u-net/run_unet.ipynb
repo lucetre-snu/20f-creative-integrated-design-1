{
 "cells": [
  {
   "cell_type": "code",
   "execution_count": 2,
   "metadata": {
    "colab": {},
    "colab_type": "code",
    "id": "Y8ter2UpdnFC"
   },
   "outputs": [],
   "source": [
    "%load_ext tensorboard"
   ]
  },
  {
   "cell_type": "code",
   "execution_count": 4,
   "metadata": {
    "colab": {},
    "colab_type": "code",
    "id": "qkaSfws4RIHf"
   },
   "outputs": [
    {
     "data": {
      "text/plain": [
       "ERROR: Could not find `tensorboard`. Please ensure that your PATH\n",
       "contains an executable `tensorboard` program, or explicitly specify\n",
       "the path to a TensorBoard binary by setting the `TENSORBOARD_BINARY`\n",
       "environment variable."
      ]
     },
     "metadata": {},
     "output_type": "display_data"
    }
   ],
   "source": [
    "tensorboard --logdir='./drive/My Drive/training_unet/log'"
   ]
  },
  {
   "cell_type": "code",
   "execution_count": 7,
   "metadata": {
    "colab": {},
    "colab_type": "code",
    "id": "4ZtjGhZhdmBE"
   },
   "outputs": [
    {
     "name": "stdout",
     "output_type": "stream",
     "text": [
      "Traceback (most recent call last):\n",
      "  File \"./train.py\", line 8, in <module>\n",
      "    import torch\n",
      "ImportError: No module named 'torch'\n"
     ]
    }
   ],
   "source": [
    "!python3 './train.py'"
   ]
  },
  {
   "cell_type": "code",
   "execution_count": 8,
   "metadata": {
    "colab": {
     "base_uri": "https://localhost:8080/",
     "height": 51
    },
    "colab_type": "code",
    "executionInfo": {
     "elapsed": 7969,
     "status": "ok",
     "timestamp": 1584314467883,
     "user": {
      "displayName": "한요섭",
      "photoUrl": "https://lh5.googleusercontent.com/-YFCq7U3ZRkA/AAAAAAAAAAI/AAAAAAAARHc/gXM5cCKzru0/s64/photo.jpg",
      "userId": "13321053678363808287"
     },
     "user_tz": 360
    },
    "id": "udJh_9lGeDrF",
    "outputId": "642860fa-7b23-4e51-cc53-cec3538bb1a5"
   },
   "outputs": [
    {
     "name": "stdout",
     "output_type": "stream",
     "text": [
      "Traceback (most recent call last):\n",
      "  File \"./eval.py\", line 6, in <module>\n",
      "    import torch\n",
      "ImportError: No module named 'torch'\n"
     ]
    }
   ],
   "source": [
    "!python3 './eval.py'"
   ]
  },
  {
   "cell_type": "code",
   "execution_count": 21,
   "metadata": {
    "colab": {
     "base_uri": "https://localhost:8080/",
     "height": 204
    },
    "colab_type": "code",
    "executionInfo": {
     "elapsed": 12442,
     "status": "ok",
     "timestamp": 1584852126774,
     "user": {
      "displayName": "한요섭",
      "photoUrl": "https://lh5.googleusercontent.com/-YFCq7U3ZRkA/AAAAAAAAAAI/AAAAAAAARHc/gXM5cCKzru0/s64/photo.jpg",
      "userId": "13321053678363808287"
     },
     "user_tz": 360
    },
    "id": "pz7ioSlzeVeN",
    "outputId": "c569fe40-0776-4c5f-9097-c1fece9a14f5"
   },
   "outputs": [
    {
     "name": "stdout",
     "output_type": "stream",
     "text": [
      "learning rate: 1.0000e-02\n",
      "batch size: 2\n",
      "number of epoch: 300\n",
      "data dir: /content/drive/My Drive/YouTube/youtube-002-pytorch-unet/datasets\n",
      "ckpt dir: /content/drive/My Drive/YouTube/youtube-002-pytorch-unet/checkpoint_v2\n",
      "log dir: /content/drive/My Drive/YouTube/youtube-002-pytorch-unet/log_v2\n",
      "result dir: /content/drive/My Drive/YouTube/youtube-002-pytorch-unet/result_v2\n",
      "mode: test\n",
      "TEST: BATCH 0001 / 0002 | LOSS 0.2314\n",
      "TEST: BATCH 0002 / 0002 | LOSS 0.2141\n",
      "AVERAGE TEST: BATCH 0002 / 0002 | LOSS 0.2141\n"
     ]
    }
   ],
   "source": [
    "!python \"./train.py\" \\\n",
    "--lr 1e-2 --batch_size 2 --num_epoch 300 \\\n",
    "--data_dir \"./datasets\" \\\n",
    "--ckpt_dir \"./checkpoint_v2\" \\\n",
    "--log_dir \"./log_v2\" \\\n",
    "--result_dir \"./result_v2\" \\\n",
    "--mode \"test\" \\\n",
    "--train_continue \"off\""
   ]
  },
  {
   "cell_type": "code",
   "execution_count": null,
   "metadata": {
    "colab": {},
    "colab_type": "code",
    "id": "CVoZZbqBbGcR"
   },
   "outputs": [],
   "source": []
  }
 ],
 "metadata": {
  "accelerator": "GPU",
  "colab": {
   "authorship_tag": "ABX9TyOhn0PSXfBvXCiYxsnaoSU4",
   "collapsed_sections": [],
   "mount_file_id": "1cFB-vCtcEHFjk1t7cXHJHg0Nog4LiOMZ",
   "name": "run_unet.ipynb",
   "provenance": []
  },
  "kernelspec": {
   "display_name": "Python 3",
   "language": "python",
   "name": "python3"
  },
  "language_info": {
   "codemirror_mode": {
    "name": "ipython",
    "version": 3
   },
   "file_extension": ".py",
   "mimetype": "text/x-python",
   "name": "python",
   "nbconvert_exporter": "python",
   "pygments_lexer": "ipython3",
   "version": "3.7.6"
  }
 },
 "nbformat": 4,
 "nbformat_minor": 4
}
