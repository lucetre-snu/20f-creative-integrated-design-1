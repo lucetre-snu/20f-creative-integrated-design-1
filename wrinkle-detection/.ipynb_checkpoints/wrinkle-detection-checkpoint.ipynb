{
 "cells": [
  {
   "cell_type": "markdown",
   "metadata": {},
   "source": [
    "### Wrinkle Detection\n",
    "#### U-net w. f-1 loss"
   ]
  },
  {
   "cell_type": "code",
   "execution_count": 20,
   "metadata": {},
   "outputs": [
    {
     "name": "stdout",
     "output_type": "stream",
     "text": [
      "<torch.cuda.device object at 0x7fcc945009d0>\n",
      "1\n",
      "GeForce GTX 1080 Ti\n",
      "True\n"
     ]
    }
   ],
   "source": [
    "import torch\n",
    "print(torch.cuda.device(0))\n",
    "print(torch.cuda.device_count())\n",
    "print(torch.cuda.get_device_name(0))\n",
    "print(torch.cuda.is_available())"
   ]
  },
  {
   "cell_type": "code",
   "execution_count": 16,
   "metadata": {},
   "outputs": [
    {
     "name": "stdout",
     "output_type": "stream",
     "text": [
      "learning rate: 1.0000e-03\n",
      "batch size: 1\n",
      "number of epoch: 100\n",
      "loss function : f1\n",
      "data dir: ./DATA\n",
      "ckpt dir: ./unet_baseline/checkpoint/10-31_15-15_f1\n",
      "log dir: ./unet_baseline/log/10-31_15-15_f1\n",
      "mode: train\n",
      "device: cuda\n",
      "Traceback (most recent call last):\n",
      "  File \"unet-baseline/main.py\", line 139, in <module>\n",
      "    main()\n",
      "  File \"unet-baseline/main.py\", line 123, in main\n",
      "    loss, acc, f1, tp, tn, fp, fn = train(net, loader_train, loss_function, num_batch_train, epoch, writer_train, device, optim)\n",
      "  File \"/home/lucetre/semester/20f-creative-integrated-design-1/wrinkle-detection/unet-baseline/train.py\", line 27, in train\n",
      "    pred = model(input)\n",
      "  File \"/home/lucetre/anaconda3/lib/python3.7/site-packages/torch/nn/modules/module.py\", line 550, in __call__\n",
      "    result = self.forward(*input, **kwargs)\n",
      "  File \"/home/lucetre/semester/20f-creative-integrated-design-1/wrinkle-detection/unet-baseline/model.py\", line 113, in forward\n",
      "    cat1 = torch.cat((unpool1, enc1_2), dim=1)\n",
      "RuntimeError: CUDA out of memory. Tried to allocate 820.00 MiB (GPU 0; 10.92 GiB total capacity; 8.33 GiB already allocated; 797.44 MiB free; 8.38 GiB reserved in total by PyTorch)\n"
     ]
    }
   ],
   "source": [
    "!python unet-baseline/main.py --loss f1"
   ]
  }
 ],
 "metadata": {
  "kernelspec": {
   "display_name": "Python 3",
   "language": "python",
   "name": "python3"
  },
  "language_info": {
   "codemirror_mode": {
    "name": "ipython",
    "version": 3
   },
   "file_extension": ".py",
   "mimetype": "text/x-python",
   "name": "python",
   "nbconvert_exporter": "python",
   "pygments_lexer": "ipython3",
   "version": "3.7.6"
  }
 },
 "nbformat": 4,
 "nbformat_minor": 4
}
